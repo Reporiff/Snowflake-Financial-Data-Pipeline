{
 "cells": [
  {
   "cell_type": "code",
   "execution_count": 77,
   "id": "61d9efb3",
   "metadata": {},
   "outputs": [
    {
     "name": "stdout",
     "output_type": "stream",
     "text": [
      "Requirement already satisfied: faker in /usr/local/lib/python3.7/dist-packages (18.13.0)\n",
      "Requirement already satisfied: python-dateutil>=2.4 in /usr/local/lib/python3.7/dist-packages (from faker) (2.8.2)\n",
      "Requirement already satisfied: typing-extensions>=3.10.0.1 in /usr/local/lib/python3.7/dist-packages (from faker) (4.0.0)\n",
      "Requirement already satisfied: six>=1.5 in /usr/lib/python3/dist-packages (from python-dateutil>=2.4->faker) (1.12.0)\n",
      "\u001b[33mWARNING: Running pip as the 'root' user can result in broken permissions and conflicting behaviour with the system package manager. It is recommended to use a virtual environment instead: https://pip.pypa.io/warnings/venv\u001b[0m\n",
      "\u001b[33mWARNING: You are using pip version 21.3.1; however, version 24.0 is available.\n",
      "You should consider upgrading via the '/usr/bin/python3 -m pip install --upgrade pip' command.\u001b[0m\n",
      "Note: you may need to restart the kernel to use updated packages.\n"
     ]
    }
   ],
   "source": [
    "pip install faker"
   ]
  },
  {
   "cell_type": "code",
   "execution_count": 78,
   "id": "a654c2d2",
   "metadata": {},
   "outputs": [],
   "source": [
    "from faker import Faker\n",
    "import pandas as pd\n",
    "import random\n",
    "from datetime import datetime\n",
    "import csv"
   ]
  },
  {
   "cell_type": "code",
   "execution_count": 79,
   "id": "e7967cbb",
   "metadata": {},
   "outputs": [],
   "source": [
    "# Initialize Faker\n",
    "fake = Faker()"
   ]
  },
  {
   "cell_type": "code",
   "execution_count": 80,
   "id": "a4b33747",
   "metadata": {},
   "outputs": [],
   "source": [
    "# Function to generate fake transaction data\n",
    "\n",
    "def generate_transaction_data(num_records):\n",
    "    data = []\n",
    "    for _ in range(num_records):\n",
    "        transaction = {\n",
    "            \"transaction_id\": fake.uuid4(),\n",
    "            \"timestamp\": fake.date_time_this_year().strftime(\"%Y-%m-%d %H:%M:%S\"),\n",
    "            \"customer_id\": fake.uuid4(),\n",
    "            \"account_id\": fake.uuid4(),\n",
    "            \"transaction_type\": random.choice(['debit', 'credit', 'transfer', 'withdrawal', 'deposit']),\n",
    "            \"transaction_amount\": round(random.uniform(10, 5000), 2),\n",
    "            \"currency\": 'AUD',  # Set currency to AUD\n",
    "            \"merchant_name\": fake.company(),\n",
    "            \"merchant_category\": random.choice(['retail', 'dining', 'groceries', 'utilities']),\n",
    "            \"transaction_status\": random.choice(['pending', 'completed', 'failed']),\n",
    "            \"fraud_flag\": random.choice([True, False]),\n",
    "            \"payment_method\": random.choice(['credit_card', 'debit_card', 'wire_transfer']),\n",
    "            \"location\": f\"{fake.city()}, {fake.country()}\",\n",
    "            \"foreign_transaction\": random.choice([True, False]),\n",
    "            \"transaction_fee\": round(random.uniform(0.5, 50), 2)\n",
    "        }\n",
    "        data.append(transaction)\n",
    "    return data\n"
   ]
  },
  {
   "cell_type": "code",
   "execution_count": 81,
   "id": "1360686f",
   "metadata": {},
   "outputs": [],
   "source": [
    "# Generate 10000 fake transaction records\n",
    "num_records = 10000\n",
    "transaction_data = generate_transaction_data(num_records)"
   ]
  },
  {
   "cell_type": "code",
   "execution_count": 82,
   "id": "eb5dc83e",
   "metadata": {},
   "outputs": [],
   "source": [
    "# Create DataFrame\n",
    "df_transaction_data = pd.DataFrame(transaction_data)"
   ]
  },
  {
   "cell_type": "code",
   "execution_count": 83,
   "id": "80f0f412",
   "metadata": {},
   "outputs": [],
   "source": [
    "# Save DataFrame to CSV with current date as filename\n",
    "current_date = datetime.now().strftime(\"%Y-%m-%d_%H-%M-%S\")\n",
    "file_name_date = f\"Dataset/transaction_data_{current_date}.csv\"\n",
    "\n",
    "# Save DataFrame to CSV with quoting for non-numeric fields using correct csv module\n",
    "df_transaction_data.to_csv(file_name_date, index=False)"
   ]
  },
  {
   "cell_type": "code",
   "execution_count": null,
   "id": "089d568d",
   "metadata": {},
   "outputs": [],
   "source": []
  },
  {
   "cell_type": "code",
   "execution_count": null,
   "id": "073c91a6",
   "metadata": {},
   "outputs": [],
   "source": []
  },
  {
   "cell_type": "code",
   "execution_count": null,
   "id": "ddd8541f",
   "metadata": {},
   "outputs": [],
   "source": []
  }
 ],
 "metadata": {
  "kernelspec": {
   "display_name": "Python 3 (ipykernel)",
   "language": "python",
   "name": "python3"
  },
  "language_info": {
   "codemirror_mode": {
    "name": "ipython",
    "version": 3
   },
   "file_extension": ".py",
   "mimetype": "text/x-python",
   "name": "python",
   "nbconvert_exporter": "python",
   "pygments_lexer": "ipython3",
   "version": "3.7.3"
  }
 },
 "nbformat": 4,
 "nbformat_minor": 5
}
